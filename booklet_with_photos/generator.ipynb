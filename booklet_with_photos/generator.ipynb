{
 "cells": [
  {
   "cell_type": "markdown",
   "source": [
    "# TN-Foto-Büchlein\n",
    "\n",
    "Dieses Skript erstellt ein Büchlein mit den Fotos und Namen der TNs.\n",
    "\n",
    "**Eingabe:**\n",
    "Im Verzeichnis ```input``` werden die Fotos in Unterordner abgelegt. Pro Gruppe ein separater Ordern. Diese Ordner tragen den Namen des Gruppenleiters. Die Bilder sollen jeweils den Namen des TNs tragen."
   ],
   "metadata": {
    "collapsed": false,
    "pycharm": {
     "name": "#%% md\n"
    }
   }
  },
  {
   "cell_type": "code",
   "execution_count": 2,
   "outputs": [
    {
     "data": {
      "text/plain": "['input/Hecht/Cheese.png',\n 'input/Hecht/Wall-E.JPG',\n 'input/Hecht/Lupin.JPG',\n 'input/Hecht/Silencio.JPG',\n 'input/Hecht/Volt.JPG',\n 'input/Biber/Alvin.JPG',\n 'input/Biber/Gecko.JPG',\n 'input/Biber/Fennek.JPG',\n 'input/Biber/Pan.JPG',\n 'input/Biber/Da Vinci.JPG',\n 'input/Da Capo/Schiggy.JPG',\n 'input/Da Capo/Scrat.JPG',\n 'input/Da Capo/Mako.JPG',\n 'input/Da Capo/Aslan.JPG',\n 'input/Da Capo/Servo.JPG',\n 'input/Füür/Ardeo.JPG',\n 'input/Füür/Orion.JPG',\n 'input/Füür/Barryvox.JPG',\n 'input/Füür/Goofy.JPG',\n 'input/Füür/Globi.JPG',\n 'input/Helios/Sirius.JPG',\n 'input/Helios/Meteo.png',\n 'input/Helios/Phosphor.png',\n 'input/Helios/Yakari.JPG',\n 'input/Helios/Phaisto.JPG',\n 'input/Philipp/Julian.JPG',\n 'input/Philipp/Struppi.png',\n 'input/Philipp/Nitro.JPG',\n 'input/Philipp/Puk.JPG',\n 'input/Philipp/Surrli.JPG']"
     },
     "execution_count": 2,
     "metadata": {},
     "output_type": "execute_result"
    }
   ],
   "source": [
    "import glob\n",
    "\n",
    "list_of_images = glob.glob(\"input/*/*\")\n",
    "list_of_images"
   ],
   "metadata": {
    "collapsed": false,
    "pycharm": {
     "name": "#%%\n"
    }
   }
  },
  {
   "cell_type": "code",
   "execution_count": null,
   "outputs": [],
   "source": [
    "import pandas as pd\n",
    "\n",
    "info_list = pd.read_csv('input/Namensliste.csv', delimiter=',')\n",
    "info_list"
   ],
   "metadata": {
    "collapsed": false,
    "pycharm": {
     "name": "#%%\n",
     "is_executing": true
    }
   }
  },
  {
   "cell_type": "code",
   "execution_count": 38,
   "outputs": [],
   "source": [
    "geschichten_namen = [\n",
    "    'Jesus geht auf dem Wasser',\n",
    "    'Gott rettet die Israeliten vor ihren Verfolgern',\n",
    "    'Mose zerbricht die Bundestafeln',\n",
    "    'Jesus heilt einen Gelähmten',\n",
    "    'Die Hochzeit in Kana',\n",
    "    'Der selbst gemachte Gott: das Goldene Kalb',\n",
    "    'Die Mauern Jerichos fallen'\n",
    "]\n",
    "\n",
    "spiele_namen = [\n",
    "    'Stock im Kreis',\n",
    "    'Baum-Fangis',\n",
    "    'Ninja',\n",
    "    'Tag und Nacht',\n",
    "    'Fliegender Holländer',\n",
    "    'Drei-Zwei-Eins-Bombe',\n",
    "    'Gordischer Knoten'\n",
    "]\n",
    "\n",
    "knoten_namen = [\n",
    "    'Zeppelinstek',\n",
    "    'Ankertauknoten',\n",
    "    'Räuberknoten',\n",
    "    'Wurfknoten',\n",
    "    'Doppelter Spierenstich',\n",
    "    'Schmetterlingsknoten',\n",
    "    'Penberthyknoten'\n",
    "]"
   ],
   "metadata": {
    "collapsed": false,
    "pycharm": {
     "name": "#%%\n"
    }
   }
  },
  {
   "cell_type": "code",
   "execution_count": 39,
   "outputs": [],
   "source": [
    "from pylatex import Document, Section, Subsection, Command, NoEscape, Figure, NewPage, Package\n",
    "from pylatex.utils import italic, NoEscape\n",
    "from pylatex.utils import bold\n",
    "\n",
    "# Basic document\n",
    "doc = Document('TN_Büchlein')\n",
    "\n",
    "doc.packages.append(Package('tikz'))\n",
    "doc.preamble.append(NoEscape(r'\\usetikzlibrary{positioning} '))\n",
    "\n",
    "for image in list_of_images:\n",
    "\n",
    "    path_segements = image.split('/')\n",
    "    cevi_namen = path_segements[2].rsplit('.', 1)[0]\n",
    "    spiel = info_list[info_list['Name Etikette'] == cevi_namen]['Einteilung Spiel'].to_numpy()[0]\n",
    "    geschichte = info_list[info_list['Name Etikette'] == cevi_namen]['Einteilung Geschichte'].to_numpy()[0]\n",
    "    knoten = info_list[info_list['Name Etikette'] == cevi_namen]['Einteilung Knoten'].to_numpy()[0]\n",
    "\n",
    "    doc.append(NoEscape(\n",
    "        r'\\begin{tikzpicture}[remember picture,overlay] '\n",
    "         + r'\\node[anchor=north west,yshift=-1.5pt,xshift=1pt] (label) at (-2.75, 3) {\\includegraphics[height=8cm]{' + image.rsplit('.', 1)[0].replace('\\\\', '/') + '}}; '\n",
    "         + r'\\node (A) at (0, -6) {' + bold(cevi_namen) + ' (' + path_segements[1] + ')};'\n",
    "         + r'\\node[right] (A) at (6, 2.5) { \\textbf{Knoten Nr:} ' + str(knoten) + ' (' + knoten_namen[knoten - 1] + ')' + '};'\n",
    "         + r'\\node[right] (A) at (6, 2) { \\textbf{Geschichte Nr:} ' + str(geschichte) + ' (' + geschichten_namen[geschichte - 1] + ')' + '};'\n",
    "         + r'\\node[right] (A) at (6, 1.5) { \\textbf{Spiel Nr:} ' + str(spiel)  + ' (' + spiele_namen[spiel - 1] + ')' + '};'\n",
    "      + r'\\end{tikzpicture}'))\n",
    "\n",
    "    doc.append(NewPage())\n",
    "\n",
    "doc.generate_pdf(clean_tex=False)\n",
    "doc.generate_tex()"
   ],
   "metadata": {
    "collapsed": false,
    "pycharm": {
     "name": "#%%\n"
    }
   }
  },
  {
   "cell_type": "code",
   "execution_count": null,
   "outputs": [],
   "source": [],
   "metadata": {
    "collapsed": false,
    "pycharm": {
     "name": "#%%\n"
    }
   }
  }
 ],
 "metadata": {
  "kernelspec": {
   "display_name": "Python 3",
   "language": "python",
   "name": "python3"
  },
  "language_info": {
   "codemirror_mode": {
    "name": "ipython",
    "version": 2
   },
   "file_extension": ".py",
   "mimetype": "text/x-python",
   "name": "python",
   "nbconvert_exporter": "python",
   "pygments_lexer": "ipython2",
   "version": "2.7.6"
  }
 },
 "nbformat": 4,
 "nbformat_minor": 0
}