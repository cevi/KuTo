{
 "cells": [
  {
   "cell_type": "markdown",
   "source": [
    "# TN-Foto-Büchlein\n",
    "\n",
    "Dieses Skript erstellt ein Büchlein mit den Fotos und Namen der TNs.\n",
    "\n",
    "**Eingabe:**\n",
    "Im Verzeichnis ```input``` werden die Fotos in Unterordner abgelegt. Pro Gruppe ein separater Ordern. Diese Ordner tragen den Namen des Gruppenleiters. Die Bilder sollen jeweils den Namen des TNs tragen."
   ],
   "metadata": {
    "collapsed": false,
    "pycharm": {
     "name": "#%% md\n"
    }
   }
  },
  {
   "cell_type": "code",
   "execution_count": 36,
   "outputs": [
    {
     "data": {
      "text/plain": "['input/Hecht/Cheese.png',\n 'input/Hecht/Wall-E.JPG',\n 'input/Hecht/Lupin.JPG',\n 'input/Hecht/Silencio.JPG',\n 'input/Hecht/Volt.JPG',\n 'input/Biber/Alvin.JPG',\n 'input/Biber/Gecko.JPG',\n 'input/Biber/Fennek.JPG',\n 'input/Biber/Pan.JPG',\n 'input/Biber/Da Vinci.JPG',\n 'input/Da Capo/Schiggy.JPG',\n 'input/Da Capo/Scrat.JPG',\n 'input/Da Capo/Mako.JPG',\n 'input/Da Capo/Aslan.JPG',\n 'input/Da Capo/Servo.JPG',\n 'input/Füür/Ardeo.JPG',\n 'input/Füür/Orion.JPG',\n 'input/Füür/Barryvox.JPG',\n 'input/Füür/Goofy.JPG',\n 'input/Füür/Globi.JPG',\n 'input/Helios/Sirius.JPG',\n 'input/Helios/Meteo.png',\n 'input/Helios/Phosphor.png',\n 'input/Helios/Yakari.JPG',\n 'input/Helios/Phaisto.JPG',\n 'input/Philipp/Julian.JPG',\n 'input/Philipp/Struppi.png',\n 'input/Philipp/Nitro.JPG',\n 'input/Philipp/Puk.JPG',\n 'input/Philipp/Surrli.JPG']"
     },
     "execution_count": 36,
     "metadata": {},
     "output_type": "execute_result"
    }
   ],
   "source": [
    "import glob\n",
    "\n",
    "list_of_images = glob.glob(\"input/*/*\")\n",
    "list_of_images"
   ],
   "metadata": {
    "collapsed": false,
    "pycharm": {
     "name": "#%%\n"
    }
   }
  },
  {
   "cell_type": "code",
   "execution_count": 37,
   "outputs": [
    {
     "data": {
      "text/plain": "   Ortsgruppe    Vorname       Nachname  Ceviname Name Etikette   Gruppe  \\\n0         GOS    Matthew          Adeeb    Yakari        Yakari   Helios   \n1         BUB       Remo       Bachofen  Da Vinci      Da Vinci    Biber   \n2         STE    Daniele       Basilico     Gecko         Gecko    Biber   \n3         STE       Luca       Basilico      Mako          Mako  Da Capo   \n4         RUT        Tim         Berndt   Struppi       Struppi  Phillip   \n5         RUT      David         Bissig     Alvin         Alvin    Biber   \n6         GOS    Richard           Böhm     Servo         Servo  Da Capo   \n7         GOS     Nahuel     Castellano    Sirius        Sirius   Helios   \n8         DUB    Yannick   di Francesco     Globi         Globi     Füür   \n9         CNN    Saverio    Fleischmann       Puk           Puk  Phillip   \n10        ALT  Christian         Gasser  Barryvox      Barryvox     Füür   \n11        ALT     Silvan         Gehrig  Phosphor      Phosphor   Helios   \n12        ALT     Thomas        Görbert     Aslan         Aslan  Da Capo   \n13        GOS     Julian      Hardmeier       NaN        Julian  Phillip   \n14        Z10     Andrin          Huber     Goofy         Goofy     Füür   \n15        Z10        Max          Kelly     Nitro         Nitro  Phillip   \n16        GOS     Laurin           Kuhn      Volt          Volt    Hecht   \n17        STA      Lorin           Kunz   Phaisto       Phaisto   Helios   \n18        MAU       Elia     Lenzlinger     Lupin         Lupin    Hecht   \n19  ILL / EFF      Loris        Lukanec    Surrli        Surrli  Phillip   \n20        CNN       Ilay          Lyrer    Wall-E        Wall-E    Hecht   \n21        RUT        Luc            Näf  Silencio      Silencio    Hecht   \n22        RAP     Laurin         Rieben     Orion         Orion     Füür   \n23        GOS       Joel            Ruf    Fennek        Fennek    Biber   \n24        RUT        Tim  Schlotterbeck     Meteo         Meteo   Helios   \n25        RUT        Sam  Schlotterbeck   Schiggy       Schiggy  Da Capo   \n26  ILL / EFF       Marc     Schmausser       Pan           Pan    Biber   \n27        RUT       Liam         Sieber     Ardeo         Ardeo     Füür   \n28        GOS      Kevin          Strik     Scrat         Scrat  Da Capo   \n29        Z10     Moritz        Zweifel    Cheese        Cheese    Hecht   \n\n    Einteilung Spiel  Einteilung Geschichte  Einteilung Knoten  \\\n0                  1                      5                  5   \n1                  5                      4                  4   \n2                  1                      1                  1   \n3                  2                      2                  2   \n4                  4                      3                  3   \n5                  6                      5                  3   \n6                  3                      3                  1   \n7                  2                      6                  4   \n8                  6                      1                  5   \n9                  3                      2                  4   \n10                 2                      4                  2   \n11                 4                      2                  2   \n12                 5                      5                  5   \n13                 1                      6                  6   \n14                 1                      3                  3   \n15                 2                      1                  5   \n16                 3                      6                  2   \n17                 6                      3                  1   \n18                 1                      4                  4   \n19                 5                      4                  2   \n20                 2                      5                  3   \n21                 6                      2                  6   \n22                 4                      5                  1   \n23                 3                      2                  6   \n24                 3                      1                  3   \n25                 4                      4                  6   \n26                 4                      3                  5   \n27                 5                      6                  6   \n28                 6                      6                  4   \n29                 5                      1                  1   \n\n                 Strasse   PLZ          Ort  \n0    Moosacherstrasse 2a  8626      Ottikon  \n1       Hüeblistrasse 38  8633   Wolfhausen  \n2     Schulwiesstrasse 1  8162    Steinmaur  \n3     Schulwiesstrasse 1  8162    Steinmaur  \n4   Schlossbergstrasse 6  8630      Rüti ZH  \n5   Eschenmattstrasse 22  8630         Rüti  \n6   Hanfgartenstrasse 33  8626      Ottikon  \n7            Büelgass 50  8625       Gossau  \n8        Chürzistrasse 1  8600    Dübendorf  \n9     Fronbergstrasse 39  8172  Niederglatt  \n10      Loogartenstr. 50  8048       Zürich  \n11          Wickenweg 45  8048       Zürich  \n12   Pfarrhausstrasse 10  8048       Zürich  \n13        Moosstrasse 68  8625       Gossau  \n14   Friedheimstrasse 23  8057       Zürich  \n15  Segantinistrasse 194  8049       Zürich  \n16   Lindenhofstrasse 9b  8624         Grüt  \n17      Grundstrasse 31a  8712        Stäfa  \n18    Unterdorfstrasse 5  8124         Maur  \n19        Im Lindenhof 9  8307   Effretikon  \n20   Fronbergstrasse  34  8172  Niederglatt  \n21   Rosenbergstrasse 22  8630         Rüti  \n22     Bachtelstrasse 21  8640   Rapperswil  \n23      Breitistrasse 32  8614  Bertschikon  \n24  Eschenmattstrasse 20  8630         Rüti  \n25  Eschenmattstrasse 20  8630         Rüti  \n26      Hörnlistrasse 18  8308       Illnau  \n27         Niggitalweg 7  8630         Rüti  \n28        Moosstrasse 40  8625       Gossau  \n29  Limmattalstrasse 133  8049       Zürich  ",
      "text/html": "<div>\n<style scoped>\n    .dataframe tbody tr th:only-of-type {\n        vertical-align: middle;\n    }\n\n    .dataframe tbody tr th {\n        vertical-align: top;\n    }\n\n    .dataframe thead th {\n        text-align: right;\n    }\n</style>\n<table border=\"1\" class=\"dataframe\">\n  <thead>\n    <tr style=\"text-align: right;\">\n      <th></th>\n      <th>Ortsgruppe</th>\n      <th>Vorname</th>\n      <th>Nachname</th>\n      <th>Ceviname</th>\n      <th>Name Etikette</th>\n      <th>Gruppe</th>\n      <th>Einteilung Spiel</th>\n      <th>Einteilung Geschichte</th>\n      <th>Einteilung Knoten</th>\n      <th>Strasse</th>\n      <th>PLZ</th>\n      <th>Ort</th>\n    </tr>\n  </thead>\n  <tbody>\n    <tr>\n      <th>0</th>\n      <td>GOS</td>\n      <td>Matthew</td>\n      <td>Adeeb</td>\n      <td>Yakari</td>\n      <td>Yakari</td>\n      <td>Helios</td>\n      <td>1</td>\n      <td>5</td>\n      <td>5</td>\n      <td>Moosacherstrasse 2a</td>\n      <td>8626</td>\n      <td>Ottikon</td>\n    </tr>\n    <tr>\n      <th>1</th>\n      <td>BUB</td>\n      <td>Remo</td>\n      <td>Bachofen</td>\n      <td>Da Vinci</td>\n      <td>Da Vinci</td>\n      <td>Biber</td>\n      <td>5</td>\n      <td>4</td>\n      <td>4</td>\n      <td>Hüeblistrasse 38</td>\n      <td>8633</td>\n      <td>Wolfhausen</td>\n    </tr>\n    <tr>\n      <th>2</th>\n      <td>STE</td>\n      <td>Daniele</td>\n      <td>Basilico</td>\n      <td>Gecko</td>\n      <td>Gecko</td>\n      <td>Biber</td>\n      <td>1</td>\n      <td>1</td>\n      <td>1</td>\n      <td>Schulwiesstrasse 1</td>\n      <td>8162</td>\n      <td>Steinmaur</td>\n    </tr>\n    <tr>\n      <th>3</th>\n      <td>STE</td>\n      <td>Luca</td>\n      <td>Basilico</td>\n      <td>Mako</td>\n      <td>Mako</td>\n      <td>Da Capo</td>\n      <td>2</td>\n      <td>2</td>\n      <td>2</td>\n      <td>Schulwiesstrasse 1</td>\n      <td>8162</td>\n      <td>Steinmaur</td>\n    </tr>\n    <tr>\n      <th>4</th>\n      <td>RUT</td>\n      <td>Tim</td>\n      <td>Berndt</td>\n      <td>Struppi</td>\n      <td>Struppi</td>\n      <td>Phillip</td>\n      <td>4</td>\n      <td>3</td>\n      <td>3</td>\n      <td>Schlossbergstrasse 6</td>\n      <td>8630</td>\n      <td>Rüti ZH</td>\n    </tr>\n    <tr>\n      <th>5</th>\n      <td>RUT</td>\n      <td>David</td>\n      <td>Bissig</td>\n      <td>Alvin</td>\n      <td>Alvin</td>\n      <td>Biber</td>\n      <td>6</td>\n      <td>5</td>\n      <td>3</td>\n      <td>Eschenmattstrasse 22</td>\n      <td>8630</td>\n      <td>Rüti</td>\n    </tr>\n    <tr>\n      <th>6</th>\n      <td>GOS</td>\n      <td>Richard</td>\n      <td>Böhm</td>\n      <td>Servo</td>\n      <td>Servo</td>\n      <td>Da Capo</td>\n      <td>3</td>\n      <td>3</td>\n      <td>1</td>\n      <td>Hanfgartenstrasse 33</td>\n      <td>8626</td>\n      <td>Ottikon</td>\n    </tr>\n    <tr>\n      <th>7</th>\n      <td>GOS</td>\n      <td>Nahuel</td>\n      <td>Castellano</td>\n      <td>Sirius</td>\n      <td>Sirius</td>\n      <td>Helios</td>\n      <td>2</td>\n      <td>6</td>\n      <td>4</td>\n      <td>Büelgass 50</td>\n      <td>8625</td>\n      <td>Gossau</td>\n    </tr>\n    <tr>\n      <th>8</th>\n      <td>DUB</td>\n      <td>Yannick</td>\n      <td>di Francesco</td>\n      <td>Globi</td>\n      <td>Globi</td>\n      <td>Füür</td>\n      <td>6</td>\n      <td>1</td>\n      <td>5</td>\n      <td>Chürzistrasse 1</td>\n      <td>8600</td>\n      <td>Dübendorf</td>\n    </tr>\n    <tr>\n      <th>9</th>\n      <td>CNN</td>\n      <td>Saverio</td>\n      <td>Fleischmann</td>\n      <td>Puk</td>\n      <td>Puk</td>\n      <td>Phillip</td>\n      <td>3</td>\n      <td>2</td>\n      <td>4</td>\n      <td>Fronbergstrasse 39</td>\n      <td>8172</td>\n      <td>Niederglatt</td>\n    </tr>\n    <tr>\n      <th>10</th>\n      <td>ALT</td>\n      <td>Christian</td>\n      <td>Gasser</td>\n      <td>Barryvox</td>\n      <td>Barryvox</td>\n      <td>Füür</td>\n      <td>2</td>\n      <td>4</td>\n      <td>2</td>\n      <td>Loogartenstr. 50</td>\n      <td>8048</td>\n      <td>Zürich</td>\n    </tr>\n    <tr>\n      <th>11</th>\n      <td>ALT</td>\n      <td>Silvan</td>\n      <td>Gehrig</td>\n      <td>Phosphor</td>\n      <td>Phosphor</td>\n      <td>Helios</td>\n      <td>4</td>\n      <td>2</td>\n      <td>2</td>\n      <td>Wickenweg 45</td>\n      <td>8048</td>\n      <td>Zürich</td>\n    </tr>\n    <tr>\n      <th>12</th>\n      <td>ALT</td>\n      <td>Thomas</td>\n      <td>Görbert</td>\n      <td>Aslan</td>\n      <td>Aslan</td>\n      <td>Da Capo</td>\n      <td>5</td>\n      <td>5</td>\n      <td>5</td>\n      <td>Pfarrhausstrasse 10</td>\n      <td>8048</td>\n      <td>Zürich</td>\n    </tr>\n    <tr>\n      <th>13</th>\n      <td>GOS</td>\n      <td>Julian</td>\n      <td>Hardmeier</td>\n      <td>NaN</td>\n      <td>Julian</td>\n      <td>Phillip</td>\n      <td>1</td>\n      <td>6</td>\n      <td>6</td>\n      <td>Moosstrasse 68</td>\n      <td>8625</td>\n      <td>Gossau</td>\n    </tr>\n    <tr>\n      <th>14</th>\n      <td>Z10</td>\n      <td>Andrin</td>\n      <td>Huber</td>\n      <td>Goofy</td>\n      <td>Goofy</td>\n      <td>Füür</td>\n      <td>1</td>\n      <td>3</td>\n      <td>3</td>\n      <td>Friedheimstrasse 23</td>\n      <td>8057</td>\n      <td>Zürich</td>\n    </tr>\n    <tr>\n      <th>15</th>\n      <td>Z10</td>\n      <td>Max</td>\n      <td>Kelly</td>\n      <td>Nitro</td>\n      <td>Nitro</td>\n      <td>Phillip</td>\n      <td>2</td>\n      <td>1</td>\n      <td>5</td>\n      <td>Segantinistrasse 194</td>\n      <td>8049</td>\n      <td>Zürich</td>\n    </tr>\n    <tr>\n      <th>16</th>\n      <td>GOS</td>\n      <td>Laurin</td>\n      <td>Kuhn</td>\n      <td>Volt</td>\n      <td>Volt</td>\n      <td>Hecht</td>\n      <td>3</td>\n      <td>6</td>\n      <td>2</td>\n      <td>Lindenhofstrasse 9b</td>\n      <td>8624</td>\n      <td>Grüt</td>\n    </tr>\n    <tr>\n      <th>17</th>\n      <td>STA</td>\n      <td>Lorin</td>\n      <td>Kunz</td>\n      <td>Phaisto</td>\n      <td>Phaisto</td>\n      <td>Helios</td>\n      <td>6</td>\n      <td>3</td>\n      <td>1</td>\n      <td>Grundstrasse 31a</td>\n      <td>8712</td>\n      <td>Stäfa</td>\n    </tr>\n    <tr>\n      <th>18</th>\n      <td>MAU</td>\n      <td>Elia</td>\n      <td>Lenzlinger</td>\n      <td>Lupin</td>\n      <td>Lupin</td>\n      <td>Hecht</td>\n      <td>1</td>\n      <td>4</td>\n      <td>4</td>\n      <td>Unterdorfstrasse 5</td>\n      <td>8124</td>\n      <td>Maur</td>\n    </tr>\n    <tr>\n      <th>19</th>\n      <td>ILL / EFF</td>\n      <td>Loris</td>\n      <td>Lukanec</td>\n      <td>Surrli</td>\n      <td>Surrli</td>\n      <td>Phillip</td>\n      <td>5</td>\n      <td>4</td>\n      <td>2</td>\n      <td>Im Lindenhof 9</td>\n      <td>8307</td>\n      <td>Effretikon</td>\n    </tr>\n    <tr>\n      <th>20</th>\n      <td>CNN</td>\n      <td>Ilay</td>\n      <td>Lyrer</td>\n      <td>Wall-E</td>\n      <td>Wall-E</td>\n      <td>Hecht</td>\n      <td>2</td>\n      <td>5</td>\n      <td>3</td>\n      <td>Fronbergstrasse  34</td>\n      <td>8172</td>\n      <td>Niederglatt</td>\n    </tr>\n    <tr>\n      <th>21</th>\n      <td>RUT</td>\n      <td>Luc</td>\n      <td>Näf</td>\n      <td>Silencio</td>\n      <td>Silencio</td>\n      <td>Hecht</td>\n      <td>6</td>\n      <td>2</td>\n      <td>6</td>\n      <td>Rosenbergstrasse 22</td>\n      <td>8630</td>\n      <td>Rüti</td>\n    </tr>\n    <tr>\n      <th>22</th>\n      <td>RAP</td>\n      <td>Laurin</td>\n      <td>Rieben</td>\n      <td>Orion</td>\n      <td>Orion</td>\n      <td>Füür</td>\n      <td>4</td>\n      <td>5</td>\n      <td>1</td>\n      <td>Bachtelstrasse 21</td>\n      <td>8640</td>\n      <td>Rapperswil</td>\n    </tr>\n    <tr>\n      <th>23</th>\n      <td>GOS</td>\n      <td>Joel</td>\n      <td>Ruf</td>\n      <td>Fennek</td>\n      <td>Fennek</td>\n      <td>Biber</td>\n      <td>3</td>\n      <td>2</td>\n      <td>6</td>\n      <td>Breitistrasse 32</td>\n      <td>8614</td>\n      <td>Bertschikon</td>\n    </tr>\n    <tr>\n      <th>24</th>\n      <td>RUT</td>\n      <td>Tim</td>\n      <td>Schlotterbeck</td>\n      <td>Meteo</td>\n      <td>Meteo</td>\n      <td>Helios</td>\n      <td>3</td>\n      <td>1</td>\n      <td>3</td>\n      <td>Eschenmattstrasse 20</td>\n      <td>8630</td>\n      <td>Rüti</td>\n    </tr>\n    <tr>\n      <th>25</th>\n      <td>RUT</td>\n      <td>Sam</td>\n      <td>Schlotterbeck</td>\n      <td>Schiggy</td>\n      <td>Schiggy</td>\n      <td>Da Capo</td>\n      <td>4</td>\n      <td>4</td>\n      <td>6</td>\n      <td>Eschenmattstrasse 20</td>\n      <td>8630</td>\n      <td>Rüti</td>\n    </tr>\n    <tr>\n      <th>26</th>\n      <td>ILL / EFF</td>\n      <td>Marc</td>\n      <td>Schmausser</td>\n      <td>Pan</td>\n      <td>Pan</td>\n      <td>Biber</td>\n      <td>4</td>\n      <td>3</td>\n      <td>5</td>\n      <td>Hörnlistrasse 18</td>\n      <td>8308</td>\n      <td>Illnau</td>\n    </tr>\n    <tr>\n      <th>27</th>\n      <td>RUT</td>\n      <td>Liam</td>\n      <td>Sieber</td>\n      <td>Ardeo</td>\n      <td>Ardeo</td>\n      <td>Füür</td>\n      <td>5</td>\n      <td>6</td>\n      <td>6</td>\n      <td>Niggitalweg 7</td>\n      <td>8630</td>\n      <td>Rüti</td>\n    </tr>\n    <tr>\n      <th>28</th>\n      <td>GOS</td>\n      <td>Kevin</td>\n      <td>Strik</td>\n      <td>Scrat</td>\n      <td>Scrat</td>\n      <td>Da Capo</td>\n      <td>6</td>\n      <td>6</td>\n      <td>4</td>\n      <td>Moosstrasse 40</td>\n      <td>8625</td>\n      <td>Gossau</td>\n    </tr>\n    <tr>\n      <th>29</th>\n      <td>Z10</td>\n      <td>Moritz</td>\n      <td>Zweifel</td>\n      <td>Cheese</td>\n      <td>Cheese</td>\n      <td>Hecht</td>\n      <td>5</td>\n      <td>1</td>\n      <td>1</td>\n      <td>Limmattalstrasse 133</td>\n      <td>8049</td>\n      <td>Zürich</td>\n    </tr>\n  </tbody>\n</table>\n</div>"
     },
     "execution_count": 37,
     "metadata": {},
     "output_type": "execute_result"
    }
   ],
   "source": [
    "import pandas as pd\n",
    "\n",
    "info_list = pd.read_csv('input/Namensliste.csv', delimiter=',')\n",
    "info_list"
   ],
   "metadata": {
    "collapsed": false,
    "pycharm": {
     "name": "#%%\n"
    }
   }
  },
  {
   "cell_type": "code",
   "execution_count": 38,
   "outputs": [],
   "source": [
    "geschichten_namen = [\n",
    "    'Jesus geht auf dem Wasser',\n",
    "    'Gott rettet die Israeliten vor ihren Verfolgern',\n",
    "    'Mose zerbricht die Bundestafeln',\n",
    "    'Jesus heilt einen Gelähmten',\n",
    "    'Die Hochzeit in Kana',\n",
    "    'Der selbst gemachte Gott: das Goldene Kalb',\n",
    "    'Die Mauern Jerichos fallen'\n",
    "]\n",
    "\n",
    "spiele_namen = [\n",
    "    'Stock im Kreis',\n",
    "    'Baum-Fangis',\n",
    "    'Ninja',\n",
    "    'Tag und Nacht',\n",
    "    'Fliegender Holländer',\n",
    "    'Drei-Zwei-Eins-Bombe',\n",
    "    'Gordischer Knoten'\n",
    "]\n",
    "\n",
    "knoten_namen = [\n",
    "    'Zeppelinstek',\n",
    "    'Ankertauknoten',\n",
    "    'Räuberknoten',\n",
    "    'Wurfknoten',\n",
    "    'Doppelter Spierenstich',\n",
    "    'Schmetterlingsknoten',\n",
    "    'Penberthyknoten'\n",
    "]"
   ],
   "metadata": {
    "collapsed": false,
    "pycharm": {
     "name": "#%%\n"
    }
   }
  },
  {
   "cell_type": "code",
   "execution_count": 39,
   "outputs": [],
   "source": [
    "from pylatex import Document, Section, Subsection, Command, NoEscape, Figure, NewPage, Package\n",
    "from pylatex.utils import italic, NoEscape\n",
    "from pylatex.utils import bold\n",
    "\n",
    "# Basic document\n",
    "doc = Document('TN_Büchlein')\n",
    "\n",
    "doc.packages.append(Package('tikz'))\n",
    "doc.preamble.append(NoEscape(r'\\usetikzlibrary{positioning} '))\n",
    "\n",
    "for image in list_of_images:\n",
    "\n",
    "    path_segements = image.split('/')\n",
    "    cevi_namen = path_segements[2].rsplit('.', 1)[0]\n",
    "    spiel = info_list[info_list['Name Etikette'] == cevi_namen]['Einteilung Spiel'].to_numpy()[0]\n",
    "    geschichte = info_list[info_list['Name Etikette'] == cevi_namen]['Einteilung Geschichte'].to_numpy()[0]\n",
    "    knoten = info_list[info_list['Name Etikette'] == cevi_namen]['Einteilung Knoten'].to_numpy()[0]\n",
    "\n",
    "    doc.append(NoEscape(\n",
    "        r'\\begin{tikzpicture}[remember picture,overlay] '\n",
    "         + r'\\node[anchor=north west,yshift=-1.5pt,xshift=1pt] (label) at (-2.75, 3) {\\includegraphics[height=8cm]{' + image.rsplit('.', 1)[0].replace('\\\\', '/') + '}}; '\n",
    "         + r'\\node (A) at (0, -6) {' + bold(cevi_namen) + ' (' + path_segements[1] + ')};'\n",
    "         + r'\\node[right] (A) at (6, 2.5) { \\textbf{Knoten Nr:} ' + str(knoten) + ' (' + knoten_namen[knoten - 1] + ')' + '};'\n",
    "         + r'\\node[right] (A) at (6, 2) { \\textbf{Geschichte Nr:} ' + str(geschichte) + ' (' + geschichten_namen[geschichte - 1] + ')' + '};'\n",
    "         + r'\\node[right] (A) at (6, 1.5) { \\textbf{Spiel Nr:} ' + str(spiel)  + ' (' + spiele_namen[spiel - 1] + ')' + '};'\n",
    "      + r'\\end{tikzpicture}'))\n",
    "\n",
    "    doc.append(NewPage())\n",
    "\n",
    "doc.generate_pdf(clean_tex=False)\n",
    "doc.generate_tex()"
   ],
   "metadata": {
    "collapsed": false,
    "pycharm": {
     "name": "#%%\n"
    }
   }
  },
  {
   "cell_type": "code",
   "execution_count": null,
   "outputs": [],
   "source": [],
   "metadata": {
    "collapsed": false,
    "pycharm": {
     "name": "#%%\n"
    }
   }
  }
 ],
 "metadata": {
  "kernelspec": {
   "display_name": "Python 3",
   "language": "python",
   "name": "python3"
  },
  "language_info": {
   "codemirror_mode": {
    "name": "ipython",
    "version": 2
   },
   "file_extension": ".py",
   "mimetype": "text/x-python",
   "name": "python",
   "nbconvert_exporter": "python",
   "pygments_lexer": "ipython2",
   "version": "2.7.6"
  }
 },
 "nbformat": 4,
 "nbformat_minor": 0
}